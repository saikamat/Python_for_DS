{
 "cells": [
  {
   "cell_type": "code",
   "execution_count": null,
   "metadata": {},
   "outputs": [],
   "source": [
    "## you've already calculated the location of the floor, \n",
    "## after about 500 dice throws. but you can't go under 0.\n",
    "## therefore, use max() function. if you use max() two \n",
    "## arguments, the biggest one is returned.\n",
    "\n",
    "## e.g. to make sure that a variable x never goes below 10\n",
    "## when you decrease it, you can use max()\n",
    "\n",
    "x = max(10, x-1);\n",
    "\n",
    "import numpy as np\n",
    "np.random.seed(123)\n",
    "\n",
    "random_walk = [0]\n",
    "\n",
    "for x in range(100):\n",
    "    step = random_walk[-1];\n",
    "    dice = np.random.randint(1, 7);\n",
    "    \n",
    "    if dice <= 2:\n",
    "        ## replace below: use max to make sure that the step\n",
    "        ## can't go below 0.\n",
    "        step = max(0, step - 1);\n",
    "    elif dice <= 5:\n",
    "        step = step+1;\n",
    "    else:\n",
    "        step = step + np.random.randint(1, 7);\n",
    "    \n",
    "    random_walk.append(step);\n",
    "\n",
    "print(random_walk);"
   ]
  }
 ],
 "metadata": {
  "kernelspec": {
   "display_name": "Python 2",
   "language": "python",
   "name": "python2"
  },
  "language_info": {
   "codemirror_mode": {
    "name": "ipython",
    "version": 2
   },
   "file_extension": ".py",
   "mimetype": "text/x-python",
   "name": "python",
   "nbconvert_exporter": "python",
   "pygments_lexer": "ipython2",
   "version": "2.7.14"
  }
 },
 "nbformat": 4,
 "nbformat_minor": 2
}
