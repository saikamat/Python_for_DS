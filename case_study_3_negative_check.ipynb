{
 "cells": [
  {
   "cell_type": "code",
   "execution_count": null,
   "metadata": {},
   "outputs": [],
   "source": [
    "import numpy as np\n",
    "\n",
    "np.random.seed(123);\n",
    "random_walk = [0];\n",
    "\n",
    "for x in range(100):\n",
    "    step = random_walk[-1];\n",
    "    dice = np.random.randint(1, 7);\n",
    "    \n",
    "    if dice <= 2:\n",
    "        step = max(0, step - 1);\n",
    "    elif dice <= 5:\n",
    "        step = step+1;\n",
    "    else:\n",
    "        step = step + np.random.randint(1, 7);\n",
    "    \n",
    "    random_walk.append(step);\n",
    "    \n",
    "## displaying the graphs here...\n",
    "import matplotlib.pyplot as plt\n",
    "\n",
    "plt.plot(random_walk);\n",
    "plt.show();"
   ]
  }
 ],
 "metadata": {
  "kernelspec": {
   "display_name": "Python 2",
   "language": "python",
   "name": "python2"
  },
  "language_info": {
   "codemirror_mode": {
    "name": "ipython",
    "version": 2
   },
   "file_extension": ".py",
   "mimetype": "text/x-python",
   "name": "python",
   "nbconvert_exporter": "python",
   "pygments_lexer": "ipython2",
   "version": "2.7.14"
  }
 },
 "nbformat": 4,
 "nbformat_minor": 2
}
