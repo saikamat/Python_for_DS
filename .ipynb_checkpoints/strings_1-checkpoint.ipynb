{
 "cells": [
  {
   "cell_type": "code",
   "execution_count": 5,
   "metadata": {},
   "outputs": [
    {
     "name": "stdout",
     "output_type": "stream",
     "text": [
      "dataanalysisvisualization\n",
      "111\n"
     ]
    }
   ],
   "source": [
    "object1 = \"data\" + \"analysis\" + \"visualization\"\n",
    "object2 = 1 * 3\n",
    "object3 = \"1\" * 3\n",
    "print(object1)\n",
    "print(object3)"
   ]
  },
  {
   "cell_type": "code",
   "execution_count": 6,
   "metadata": {},
   "outputs": [
    {
     "name": "stdout",
     "output_type": "stream",
     "text": [
      "congratulations!!!\n"
     ]
    }
   ],
   "source": [
    "## writing simple functions\n",
    "## Instructions\n",
    "##-Complete the function header by adding the appropriate function name, shout. ##-In the function body, concatenate the string,\n",
    "## 'congratulations' with another string,'!!!'. Assign the result to shout_word. Print the value of shout_word.Call the shout \n",
    "## function.\n",
    "\n",
    "def shout():\n",
    "    shouted_word = 'congratulations'+'!!!';\n",
    "    print(shouted_word);\n",
    "\n",
    "shout();"
   ]
  },
  {
   "cell_type": "code",
   "execution_count": 7,
   "metadata": {},
   "outputs": [
    {
     "name": "stdout",
     "output_type": "stream",
     "text": [
      "loda!!!\n"
     ]
    }
   ],
   "source": [
    "## single parameter functions:-\n",
    "\n",
    "def shout(word):\n",
    "    shouted_word = word+'!!!'\n",
    "    print(shouted_word);\n",
    "\n",
    "shout('loda');"
   ]
  },
  {
   "cell_type": "code",
   "execution_count": 8,
   "metadata": {},
   "outputs": [
    {
     "name": "stdout",
     "output_type": "stream",
     "text": [
      "mc!!!\n"
     ]
    }
   ],
   "source": [
    "## functions returning one value:-\n",
    "\n",
    "def shout(word):\n",
    "    shouted_word = word+'!!!'\n",
    "    return (shouted_word);\n",
    "\n",
    "yell = shout('mc');\n",
    "## print the returned value\n",
    "print(yell);"
   ]
  },
  {
   "cell_type": "code",
   "execution_count": 10,
   "metadata": {},
   "outputs": [
    {
     "name": "stdout",
     "output_type": "stream",
     "text": [
      "congratulations!!!\n",
      "you!!!\n"
     ]
    }
   ],
   "source": [
    "##Instructions\n",
    "##-Modify the function header such that the function name is now shout_all, and it accepts\n",
    "##two parameters, word1 and word2, in that order.\n",
    "##-Concatenate the string '!!!' to each of word1 and word2 and assign to shout1 and shout2,\n",
    "##respectively.\n",
    "##-Construct a tuple shout_words, composed of shout1 and shout2.\n",
    "##-Call shout_all() with the strings 'congratulations' and 'you' and assign the result to\n",
    "##yell1 and yell2 (remember, shout_all returns 2 variables!).\n",
    "\n",
    "##-Modify the function header such that the function name is now shout_all, and it accepts\n",
    "##two parameters, word1 and word2, in that order.\n",
    "def shout_all(word1, word2):\n",
    "##-Concatenate the string '!!!' to each of word1 and word2 and assign to shout1 and shout2,\n",
    "##respectively.\n",
    "    shout1 = word1+'!!!';\n",
    "    shout2 = word2+'!!!';\n",
    "##-Construct a tuple shout_words, composed of shout1 and shout2.\n",
    "    #shout_words(shout1, shout2);\n",
    "    shout_words = (shout1, shout2);\n",
    "    #+\n",
    "    return shout_words;\n",
    "##-Call shout_all() with the strings 'congratulations' and 'you' and assign the result to\n",
    "##yell1 and yell2 (remember, shout_all returns 2 variables!).\n",
    "#yell1 = shout_all('congratulations','you')\n",
    "yell1, yell2 = shout_all('congratulations','you');\n",
    "print(yell1+\"\\n\"+yell2);"
   ]
  },
  {
   "cell_type": "code",
   "execution_count": null,
   "metadata": {},
   "outputs": [],
   "source": []
  }
 ],
 "metadata": {
  "kernelspec": {
   "display_name": "Python 2",
   "language": "python",
   "name": "python2"
  },
  "language_info": {
   "codemirror_mode": {
    "name": "ipython",
    "version": 2
   },
   "file_extension": ".py",
   "mimetype": "text/x-python",
   "name": "python",
   "nbconvert_exporter": "python",
   "pygments_lexer": "ipython2",
   "version": "2.7.14"
  }
 },
 "nbformat": 4,
 "nbformat_minor": 2
}
