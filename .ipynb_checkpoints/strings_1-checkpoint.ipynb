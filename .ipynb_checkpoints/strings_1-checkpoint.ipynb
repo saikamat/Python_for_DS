{
 "cells": [
  {
   "cell_type": "code",
   "execution_count": 5,
   "metadata": {},
   "outputs": [
    {
     "name": "stdout",
     "output_type": "stream",
     "text": [
      "dataanalysisvisualization\n",
      "111\n"
     ]
    }
   ],
   "source": [
    "object1 = \"data\" + \"analysis\" + \"visualization\"\n",
    "object2 = 1 * 3\n",
    "object3 = \"1\" * 3\n",
    "print(object1)\n",
    "print(object3)"
   ]
  },
  {
   "cell_type": "code",
   "execution_count": 6,
   "metadata": {},
   "outputs": [
    {
     "name": "stdout",
     "output_type": "stream",
     "text": [
      "congratulations!!!\n"
     ]
    }
   ],
   "source": [
    "## writing simple functions\n",
    "## Instructions\n",
    "##-Complete the function header by adding the appropriate function name, shout. ##-In the function body, concatenate the string,\n",
    "## 'congratulations' with another string,'!!!'. Assign the result to shout_word. Print the value of shout_word.Call the shout \n",
    "## function.\n",
    "\n",
    "def shout():\n",
    "    shouted_word = 'congratulations'+'!!!';\n",
    "    print(shouted_word);\n",
    "\n",
    "shout();"
   ]
  },
  {
   "cell_type": "code",
   "execution_count": null,
   "metadata": {},
   "outputs": [],
   "source": []
  }
 ],
 "metadata": {
  "kernelspec": {
   "display_name": "Python 2",
   "language": "python",
   "name": "python2"
  },
  "language_info": {
   "codemirror_mode": {
    "name": "ipython",
    "version": 2
   },
   "file_extension": ".py",
   "mimetype": "text/x-python",
   "name": "python",
   "nbconvert_exporter": "python",
   "pygments_lexer": "ipython2",
   "version": "2.7.14"
  }
 },
 "nbformat": 4,
 "nbformat_minor": 2
}
