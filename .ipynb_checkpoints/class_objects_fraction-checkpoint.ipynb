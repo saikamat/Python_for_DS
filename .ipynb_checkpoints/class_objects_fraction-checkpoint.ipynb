{
 "cells": [
  {
   "cell_type": "markdown",
   "metadata": {},
   "source": [
    "# understanding class and methods \n",
    "## create a `fraction` class that will 1. represent in x/y form in it's lowest. 2. perform fraction arithmetic on it.\n",
    "\n",
    "### create a class called `fraction`"
   ]
  },
  {
   "cell_type": "code",
   "execution_count": null,
   "metadata": {},
   "outputs": [],
   "source": [
    "class Fraction:\n",
    "    # methods here\n",
    "    "
   ]
  },
  {
   "cell_type": "markdown",
   "metadata": {},
   "source": [
    "# initilization constructor `__init__` \n",
    "- 1st method of a class. default\n",
    "- defines in which the class object is created.\n",
    "- has same name as the class, obviously.\n",
    "- `self` is a special parameter used to reference to the same object, akin to `this` in C++\n",
    "- however, it's not used when the constructor is invoked.\n",
    "\n",
    "- below class has numr, and denr as it's class objects."
   ]
  },
  {
   "cell_type": "code",
   "execution_count": 1,
   "metadata": {},
   "outputs": [],
   "source": [
    "class Fraction:\n",
    "    def __init__(self, top_val, bott_val):\n",
    "        self.numr = top_val\n",
    "        self.denr = bott_val"
   ]
  },
  {
   "cell_type": "markdown",
   "metadata": {},
   "source": [
    "## invokeing the constr.\n",
    "- we don't invoke parameter corresponding to `self` in the statement. \n",
    "- invoking the constr. will **create an instance of the class**\n",
    "- we pass values directly to the `__init__` constructor\n",
    "\n",
    "- here `my_fraction` is a class instance."
   ]
  },
  {
   "cell_type": "code",
   "execution_count": 3,
   "metadata": {},
   "outputs": [
    {
     "data": {
      "text/plain": [
       "<__main__.Fraction at 0x2ab73010748>"
      ]
     },
     "execution_count": 3,
     "metadata": {},
     "output_type": "execute_result"
    }
   ],
   "source": [
    "my_fraction = Fraction(6,7)\n",
    "my_fraction"
   ]
  },
  {
   "cell_type": "markdown",
   "metadata": {},
   "source": [
    "- note that the instance of the class is merely created. it so far, can't be printed or used for anything.\n",
    "- it needs to be transformed somehow.\n",
    "- one of the instances is to use the `__str__` method\n",
    "   - it converts object to string.\n",
    "   - we can overload this function"
   ]
  },
  {
   "cell_type": "code",
   "execution_count": 33,
   "metadata": {},
   "outputs": [
    {
     "name": "stdout",
     "output_type": "stream",
     "text": [
      "6/19\n"
     ]
    },
    {
     "ename": "TypeError",
     "evalue": "__str__ returned non-string (type NoneType)",
     "output_type": "error",
     "traceback": [
      "\u001b[1;31m---------------------------------------------------------------------------\u001b[0m",
      "\u001b[1;31mTypeError\u001b[0m                                 Traceback (most recent call last)",
      "\u001b[1;32m<ipython-input-33-986426bdbfe4>\u001b[0m in \u001b[0;36m<module>\u001b[1;34m()\u001b[0m\n\u001b[0;32m      8\u001b[0m \u001b[1;33m\u001b[0m\u001b[0m\n\u001b[0;32m      9\u001b[0m \u001b[0mmy_fraction\u001b[0m \u001b[1;33m=\u001b[0m \u001b[0mFraction\u001b[0m\u001b[1;33m(\u001b[0m\u001b[1;36m6\u001b[0m\u001b[1;33m,\u001b[0m\u001b[1;36m19\u001b[0m\u001b[1;33m)\u001b[0m\u001b[1;33m\u001b[0m\u001b[0m\n\u001b[1;32m---> 10\u001b[1;33m \u001b[0mprint\u001b[0m\u001b[1;33m(\u001b[0m\u001b[0mmy_fraction\u001b[0m\u001b[1;33m)\u001b[0m\u001b[1;33m\u001b[0m\u001b[0m\n\u001b[0m",
      "\u001b[1;31mTypeError\u001b[0m: __str__ returned non-string (type NoneType)"
     ]
    }
   ],
   "source": [
    "class Fraction:\n",
    "    def __init__(self, top_val, bott_val):\n",
    "        self.numr = top_val\n",
    "        self.denr = bott_val\n",
    "        \n",
    "    def __str__(self):\n",
    "        print (str(self.numr)+\"/\"+str(self.denr))\n",
    "        \n",
    "my_fraction = Fraction(6,19)\n",
    "print(my_fraction)"
   ]
  },
  {
   "cell_type": "code",
   "execution_count": 36,
   "metadata": {},
   "outputs": [
    {
     "name": "stdout",
     "output_type": "stream",
     "text": [
      "5/10\n"
     ]
    }
   ],
   "source": [
    "class Fraction:\n",
    "    def __init__(self, top_val, bott_val):\n",
    "        self.numr = top_val\n",
    "        self.denr = bott_val\n",
    "        \n",
    "    def __str__(self):\n",
    "        return (str(self.numr)+\"/\"+str(self.denr))  # changed here.\n",
    "        \n",
    "my_fraction = Fraction(5,10)\n",
    "print(my_fraction)"
   ]
  },
  {
   "cell_type": "markdown",
   "metadata": {},
   "source": [
    "## fine tuning the constraints on the `Fraction` class\n",
    "\n",
    "- however this merely displays a set of values. \n",
    "- it doesn't constrain the numr to being any integer and denr being non zero.\n",
    "- it also doesn't reduce it to the lowest value. so let's do that first."
   ]
  },
  {
   "cell_type": "code",
   "execution_count": 37,
   "metadata": {},
   "outputs": [
    {
     "ename": "RuntimeWarning",
     "evalue": "denominator can't be zero.",
     "output_type": "error",
     "traceback": [
      "\u001b[1;31m---------------------------------------------------------------------------\u001b[0m",
      "\u001b[1;31mRuntimeWarning\u001b[0m                            Traceback (most recent call last)",
      "\u001b[1;32m<ipython-input-37-7e912137ad0e>\u001b[0m in \u001b[0;36m<module>\u001b[1;34m()\u001b[0m\n\u001b[0;32m     10\u001b[0m         \u001b[1;32mreturn\u001b[0m \u001b[1;33m(\u001b[0m\u001b[0mstr\u001b[0m\u001b[1;33m(\u001b[0m\u001b[0mself\u001b[0m\u001b[1;33m.\u001b[0m\u001b[0mnumr\u001b[0m\u001b[1;33m)\u001b[0m\u001b[1;33m+\u001b[0m\u001b[1;34m\"/\"\u001b[0m\u001b[1;33m+\u001b[0m\u001b[0mstr\u001b[0m\u001b[1;33m(\u001b[0m\u001b[0mself\u001b[0m\u001b[1;33m.\u001b[0m\u001b[0mdenr\u001b[0m\u001b[1;33m)\u001b[0m\u001b[1;33m)\u001b[0m  \u001b[1;31m# changed here.\u001b[0m\u001b[1;33m\u001b[0m\u001b[0m\n\u001b[0;32m     11\u001b[0m \u001b[1;33m\u001b[0m\u001b[0m\n\u001b[1;32m---> 12\u001b[1;33m \u001b[0mmy_fraction\u001b[0m \u001b[1;33m=\u001b[0m \u001b[0mFraction\u001b[0m\u001b[1;33m(\u001b[0m\u001b[1;36m5\u001b[0m\u001b[1;33m,\u001b[0m\u001b[1;36m0\u001b[0m\u001b[1;33m)\u001b[0m\u001b[1;33m\u001b[0m\u001b[0m\n\u001b[0m\u001b[0;32m     13\u001b[0m \u001b[0mprint\u001b[0m\u001b[1;33m(\u001b[0m\u001b[0mmy_fraction\u001b[0m\u001b[1;33m)\u001b[0m\u001b[1;33m\u001b[0m\u001b[0m\n",
      "\u001b[1;32m<ipython-input-37-7e912137ad0e>\u001b[0m in \u001b[0;36m__init__\u001b[1;34m(self, top_val, bott_val)\u001b[0m\n\u001b[0;32m      5\u001b[0m             \u001b[0mself\u001b[0m\u001b[1;33m.\u001b[0m\u001b[0mdenr\u001b[0m \u001b[1;33m=\u001b[0m \u001b[0mbott_val\u001b[0m\u001b[1;33m\u001b[0m\u001b[0m\n\u001b[0;32m      6\u001b[0m         \u001b[1;32melse\u001b[0m\u001b[1;33m:\u001b[0m\u001b[1;33m\u001b[0m\u001b[0m\n\u001b[1;32m----> 7\u001b[1;33m             \u001b[1;32mraise\u001b[0m \u001b[0mRuntimeWarning\u001b[0m\u001b[1;33m(\u001b[0m\u001b[1;34m\"denominator can't be zero.\"\u001b[0m\u001b[1;33m)\u001b[0m\u001b[1;33m\u001b[0m\u001b[0m\n\u001b[0m\u001b[0;32m      8\u001b[0m \u001b[1;33m\u001b[0m\u001b[0m\n\u001b[0;32m      9\u001b[0m     \u001b[1;32mdef\u001b[0m \u001b[0m__str__\u001b[0m\u001b[1;33m(\u001b[0m\u001b[0mself\u001b[0m\u001b[1;33m)\u001b[0m\u001b[1;33m:\u001b[0m\u001b[1;33m\u001b[0m\u001b[0m\n",
      "\u001b[1;31mRuntimeWarning\u001b[0m: denominator can't be zero."
     ]
    }
   ],
   "source": [
    "class Fraction:\n",
    "    def __init__(self, top_val, bott_val):\n",
    "        self.numr = top_val\n",
    "        if bott_val is not 0:\n",
    "            self.denr = bott_val\n",
    "        else:\n",
    "            raise RuntimeWarning(\"denominator can't be zero.\")\n",
    "        \n",
    "    def __str__(self):\n",
    "        return (str(self.numr)+\"/\"+str(self.denr))  # changed here.\n",
    "        \n",
    "my_fraction = Fraction(5,0)\n",
    "print(my_fraction)"
   ]
  },
  {
   "cell_type": "code",
   "execution_count": 65,
   "metadata": {},
   "outputs": [
    {
     "name": "stdout",
     "output_type": "stream",
     "text": [
      "-45/1\n"
     ]
    }
   ],
   "source": [
    "import math\n",
    "class Fraction:\n",
    "    def __init__(self, top_val, bott_val):\n",
    "        # check for zero denominator.\n",
    "        if bott_val is 0:\n",
    "            raise RuntimeError(\"operation is undefined.\")\n",
    "            \n",
    "        # special fractional entry case\n",
    "        elif 0< bott_val < 1 or -1< bott_val < 0:\n",
    "            top_val = int(top_val)*(1/bott_val)\n",
    "            bott_val = 1\n",
    "        # check for negative denominator and invert signature accordingly.\n",
    "        elif bott_val < 0:\n",
    "            top_val = -1*top_val\n",
    "            bott_val = -1*bott_val\n",
    "        \n",
    "        # ensure that only int values are entered.\n",
    "        self.numr = int(top_val)\n",
    "        self.denr = int(bott_val)\n",
    "        \n",
    "    def __str__(self):\n",
    "        return (str(self.numr)+\"/\"+str(self.denr))  # changed here.\n",
    "        \n",
    "my_fraction = Fraction(5.3,-0.11)\n",
    "print(my_fraction)"
   ]
  },
  {
   "cell_type": "markdown",
   "metadata": {},
   "source": [
    "### making the class more modular and readable"
   ]
  },
  {
   "cell_type": "code",
   "execution_count": 78,
   "metadata": {},
   "outputs": [
    {
     "name": "stdout",
     "output_type": "stream",
     "text": [
      "16/1\n"
     ]
    }
   ],
   "source": [
    "def check_for_values(top_val, bott_val):\n",
    "        # check for zero denominator.\n",
    "        if bott_val is 0:\n",
    "            raise RuntimeError(\"operation is undefined.\")           \n",
    "        # special fractional entry case\n",
    "        elif 0< bott_val < 1 or -1< bott_val < 0:\n",
    "            top_val = int(top_val)/bott_val\n",
    "            bott_val = 1\n",
    "        # check for negative denominator and invert signature accordingly.\n",
    "        elif bott_val < 0:\n",
    "            top_val = -1*top_val\n",
    "            bott_val = -1*bott_val\n",
    "            \n",
    "        return (int(top_val), int(bott_val))\n",
    "          \n",
    "class Fraction:            \n",
    "    def __init__(self, top_val, bott_val):        \n",
    "        self.numr, self.denr = check_for_values(top_val, bott_val)\n",
    "            \n",
    "    def __str__(self):\n",
    "        return (str(self.numr)+\"/\"+str(self.denr))  # changed here.\n",
    "        \n",
    "my_fraction = Fraction(5.3,0.3)\n",
    "print(my_fraction)"
   ]
  },
  {
   "cell_type": "markdown",
   "metadata": {},
   "source": [
    "## arithmetic ops on `Fraction`\n",
    "### addition\n",
    "- cross multiply and divide by the GCD"
   ]
  },
  {
   "cell_type": "code",
   "execution_count": 91,
   "metadata": {},
   "outputs": [
    {
     "name": "stdout",
     "output_type": "stream",
     "text": [
      "1\n"
     ]
    }
   ],
   "source": [
    "def gcd(m,n):\n",
    "    while m%n != 0:\n",
    "        oldm = m\n",
    "        oldn = n\n",
    "\n",
    "        m = oldn\n",
    "        n = oldm%oldn\n",
    "    return n\n",
    "\n",
    "print(gcd(8,5))"
   ]
  },
  {
   "cell_type": "code",
   "execution_count": 101,
   "metadata": {},
   "outputs": [
    {
     "ename": "TypeError",
     "evalue": "unsupported operand type(s) for +: 'Fraction' and 'Fraction'",
     "output_type": "error",
     "traceback": [
      "\u001b[1;31m---------------------------------------------------------------------------\u001b[0m",
      "\u001b[1;31mTypeError\u001b[0m                                 Traceback (most recent call last)",
      "\u001b[1;32m<ipython-input-101-98ee3a6481e8>\u001b[0m in \u001b[0;36m<module>\u001b[1;34m()\u001b[0m\n\u001b[0;32m     39\u001b[0m \u001b[0mx\u001b[0m \u001b[1;33m=\u001b[0m \u001b[0mFraction\u001b[0m\u001b[1;33m(\u001b[0m\u001b[1;36m3\u001b[0m\u001b[1;33m,\u001b[0m\u001b[1;36m5\u001b[0m\u001b[1;33m)\u001b[0m\u001b[1;33m\u001b[0m\u001b[0m\n\u001b[0;32m     40\u001b[0m \u001b[0my\u001b[0m \u001b[1;33m=\u001b[0m \u001b[0mFraction\u001b[0m\u001b[1;33m(\u001b[0m\u001b[1;36m4\u001b[0m\u001b[1;33m,\u001b[0m\u001b[1;36m6\u001b[0m\u001b[1;33m)\u001b[0m\u001b[1;33m\u001b[0m\u001b[0m\n\u001b[1;32m---> 41\u001b[1;33m \u001b[0mprint\u001b[0m\u001b[1;33m(\u001b[0m\u001b[0mx\u001b[0m\u001b[1;33m+\u001b[0m\u001b[0my\u001b[0m\u001b[1;33m)\u001b[0m\u001b[1;33m\u001b[0m\u001b[0m\n\u001b[0m",
      "\u001b[1;31mTypeError\u001b[0m: unsupported operand type(s) for +: 'Fraction' and 'Fraction'"
     ]
    }
   ],
   "source": [
    "def check_for_values(top_val, bott_val):\n",
    "        # check for zero denominator.\n",
    "        if bott_val is 0:\n",
    "            raise RuntimeError(\"operation is undefined.\")           \n",
    "        # special fractional entry case\n",
    "        elif 0< bott_val < 1 or -1< bott_val < 0:\n",
    "            top_val = int(top_val)/bott_val\n",
    "            bott_val = 1\n",
    "        # check for negative denominator and invert signature accordingly.\n",
    "        elif bott_val < 0:\n",
    "            top_val = -1*top_val\n",
    "            bott_val = -1*bott_val\n",
    "            \n",
    "        return (int(top_val), int(bott_val))\n",
    "\n",
    "def gcd(m,n):\n",
    "    while m%n != 0:\n",
    "        oldm = m\n",
    "        oldn = n\n",
    "\n",
    "        m = oldn\n",
    "        n = oldm%oldn\n",
    "    return n          \n",
    "\n",
    "class Fraction:            \n",
    "    def __init__(self, top_val, bott_val):        \n",
    "        self.numr, self.denr = check_for_values(top_val, bott_val)\n",
    "            \n",
    "    def __str__(self):\n",
    "        return (str(self.numr)+\"/\"+str(self.denr))  # changed here.\n",
    "    \n",
    "    def addFrac(self, other_frac):\n",
    "        new_numr = self.numr*other_frac.denr + other_frac.numr*self.denr\n",
    "        new_denr = self.denr*other_frac.denr\n",
    "        gcd_val = gcd(self.denr, other_frac.denr)\n",
    "        \n",
    "        return Fraction(new_numr//gcd_val, new_denr//gcd_val)\n",
    "        \n",
    "x = Fraction(3,5)\n",
    "y = Fraction(4,6)\n",
    "print(x+y)"
   ]
  },
  {
   "cell_type": "markdown",
   "metadata": {},
   "source": [
    "If you look closely at the error, you see that the problem is that the “+” operator does not understand the Fraction operands.\n",
    "\n",
    "We can fix this by providing the Fraction class with a method that overrides the addition method. In Python, this method is called `__add__` and it requires two parameters. The first, self, is always needed, and the second represents the other operand in the expression."
   ]
  },
  {
   "cell_type": "code",
   "execution_count": 112,
   "metadata": {},
   "outputs": [
    {
     "name": "stdout",
     "output_type": "stream",
     "text": [
      "here01\n",
      "here01\n",
      "here03\n",
      "here01\n"
     ]
    },
    {
     "data": {
      "text/plain": [
       "<__main__.Fraction at 0x2ab7413ecc0>"
      ]
     },
     "execution_count": 112,
     "metadata": {},
     "output_type": "execute_result"
    }
   ],
   "source": [
    "def check_for_values(top_val, bott_val):\n",
    "        # check for zero denominator.\n",
    "        if bott_val is 0:\n",
    "            raise RuntimeError(\"operation is undefined.\")           \n",
    "        # special fractional entry case\n",
    "        elif 0< bott_val < 1 or -1< bott_val < 0:\n",
    "            top_val = int(top_val)/bott_val\n",
    "            bott_val = 1\n",
    "        # check for negative denominator and invert signature accordingly.\n",
    "        elif bott_val < 0:\n",
    "            top_val = -1*top_val\n",
    "            bott_val = -1*bott_val\n",
    "            \n",
    "        return (int(top_val), int(bott_val))\n",
    "\n",
    "def gcd(m,n):\n",
    "    while m%n != 0:\n",
    "        oldm = m\n",
    "        oldn = n\n",
    "\n",
    "        m = oldn\n",
    "        n = oldm%oldn\n",
    "    return n          \n",
    "\n",
    "class Fraction:            \n",
    "    def __init__(self, top_val, bott_val):\n",
    "        print(\"here01\")\n",
    "        self.numr, self.denr = check_for_values(top_val, bott_val)\n",
    "    \n",
    "    # this function is invoked only when we want to PRINT.\n",
    "    def __str__(self):\n",
    "        print(\"here02\")\n",
    "        return (str(self.numr)+\"/\"+str(self.denr))  # changed here.\n",
    "    \n",
    "    def __add__(self, other_frac):\n",
    "        print(\"here03\")\n",
    "        new_numr = self.numr*other_frac.denr + other_frac.numr*self.denr\n",
    "        new_denr = self.denr*other_frac.denr\n",
    "        gcd_val = gcd(self.denr, other_frac.denr)\n",
    "        \n",
    "        return Fraction(new_numr//gcd_val, new_denr//gcd_val)\n",
    "    \n",
    "        \n",
    "x = Fraction(1,4)\n",
    "y = Fraction(1,2)\n",
    "#print(x+y)\n",
    "x+y"
   ]
  },
  {
   "cell_type": "code",
   "execution_count": 113,
   "metadata": {},
   "outputs": [
    {
     "name": "stdout",
     "output_type": "stream",
     "text": [
      "here01\n",
      "here01\n",
      "here03\n",
      "here01\n",
      "here02\n",
      "3/4\n"
     ]
    }
   ],
   "source": [
    "def check_for_values(top_val, bott_val):\n",
    "        # check for zero denominator.\n",
    "        if bott_val is 0:\n",
    "            raise RuntimeError(\"operation is undefined.\")           \n",
    "        # special fractional entry case\n",
    "        elif 0< bott_val < 1 or -1< bott_val < 0:\n",
    "            top_val = int(top_val)/bott_val\n",
    "            bott_val = 1\n",
    "        # check for negative denominator and invert signature accordingly.\n",
    "        elif bott_val < 0:\n",
    "            top_val = -1*top_val\n",
    "            bott_val = -1*bott_val\n",
    "            \n",
    "        return (int(top_val), int(bott_val))\n",
    "\n",
    "def gcd(m,n):\n",
    "    while m%n != 0:\n",
    "        oldm = m\n",
    "        oldn = n\n",
    "\n",
    "        m = oldn\n",
    "        n = oldm%oldn\n",
    "    return n          \n",
    "\n",
    "class Fraction:            \n",
    "    def __init__(self, top_val, bott_val):\n",
    "        print(\"here01\")\n",
    "        self.numr, self.denr = check_for_values(top_val, bott_val)\n",
    "    \n",
    "    # this function is invoked only when we want to PRINT.\n",
    "    def __str__(self):\n",
    "        print(\"here02\")\n",
    "        return (str(self.numr)+\"/\"+str(self.denr))  # changed here.\n",
    "    \n",
    "    def __add__(self, other_frac):\n",
    "        print(\"here03\")\n",
    "        new_numr = self.numr*other_frac.denr + other_frac.numr*self.denr\n",
    "        new_denr = self.denr*other_frac.denr\n",
    "        gcd_val = gcd(self.denr, other_frac.denr)\n",
    "        \n",
    "        return Fraction(new_numr//gcd_val, new_denr//gcd_val)\n",
    "    \n",
    "        \n",
    "x = Fraction(1,4)\n",
    "y = Fraction(1,2)\n",
    "print(x+y)\n",
    "#x+y"
   ]
  }
 ],
 "metadata": {
  "kernelspec": {
   "display_name": "Python 3",
   "language": "python",
   "name": "python3"
  },
  "language_info": {
   "codemirror_mode": {
    "name": "ipython",
    "version": 3
   },
   "file_extension": ".py",
   "mimetype": "text/x-python",
   "name": "python",
   "nbconvert_exporter": "python",
   "pygments_lexer": "ipython3",
   "version": "3.5.2"
  }
 },
 "nbformat": 4,
 "nbformat_minor": 2
}
