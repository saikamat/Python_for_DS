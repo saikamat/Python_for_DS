{
 "cells": [
  {
   "cell_type": "code",
   "execution_count": 1,
   "metadata": {},
   "outputs": [
    {
     "name": "stdout",
     "output_type": "stream",
     "text": [
      "justice league\n",
      "justice league\n"
     ]
    }
   ],
   "source": [
    "# the keyword global\n",
    "##Instructions\n",
    "##-Use the keyword global to alter the object team in the global scope.\n",
    "##-Change the value of team in the global scope to the string \"justice league\".\n",
    "##Assign the result to team.\n",
    "##-Hit the Submit button to see how executing your newly defined function change_team()\n",
    "##changes the value of the name team!\n",
    "\n",
    "# Create a string: team\n",
    "team = \"teen titans\";\n",
    "\n",
    "# Define change_team()\n",
    "def change_team():\n",
    "\n",
    "\n",
    "# Use team in global scope\n",
    "    global team;\n",
    "\n",
    "# Change the value of team in global: team\n",
    "    team = \"justice league\"\n",
    "\n",
    "# Print team\n",
    "    print(team);\n",
    "\n",
    "# Call change_team()\n",
    "change_team();\n",
    "\n",
    "# Print team\n",
    "print(team);\n"
   ]
  },
  {
   "cell_type": "code",
   "execution_count": 4,
   "metadata": {},
   "outputs": [
    {
     "name": "stdout",
     "output_type": "stream",
     "text": [
      "None\n"
     ]
    }
   ],
   "source": [
    "'''\n",
    "Nested Functions I\n",
    "\n",
    "You've learned in the last video about nesting functions within functions. One reason why you'd like to do this is to avoid \n",
    "writing out the same computations within functions repeatedly. There's nothing new about defining nested functions:\n",
    "you simply define it as you would a regular function with def and embed it inside another function!\n",
    "\n",
    "In this exercise, inside a function three_shouts(), you will define a nested function inner() that concatenates a string object \n",
    "with !!!. three_shouts() then returns a tuple of three elements, each a string concatenated with !!! using inner(). Go for it!\n",
    "\n",
    "Instructions\n",
    "-Complete the function header of the nested function with the function name inner()\n",
    "and a single parameter word.\n",
    "-Complete the return value: each element of the tuple should be a call to inner(),\n",
    "passing in the parameters from three_shouts() as arguments to each call.\n",
    "'''\n",
    "\n",
    "##THIS ONE IS WRONG\n",
    "# Define three_shouts\n",
    "def three_shouts(str01, str02, str03):\n",
    "# Define inner\n",
    "    def inner():\n",
    "    # Return a tuple of strings\n",
    "        concat01 = str01 + '!!!';concat02 = str02 + '!!!';concat03 = str03 + '!!!';\n",
    "        inner_tuple = (concat01,concat02,concat03); \n",
    "        return(inner_tuple);\n",
    "# Call three_shouts() and print\n",
    "returned_value = three_shouts('hi', 'hello', 'hey');\n",
    "print(returned_value);\n",
    "##THIS ONE IS WRONG"
   ]
  },
  {
   "cell_type": "code",
   "execution_count": 5,
   "metadata": {},
   "outputs": [
    {
     "name": "stdout",
     "output_type": "stream",
     "text": [
      "('hi!!!', 'hey!!!', 'hola!!!')\n"
     ]
    }
   ],
   "source": [
    "# Define three_shouts\n",
    "def three_shouts(str01, str02, str03):\n",
    "# Define inner\n",
    "    def inner(str_workout):\n",
    "        return(str_workout + '!!!');\n",
    " # Return a tuple of strings\n",
    "    tuple_of_strings = (inner(str01), inner(str02), inner(str03));\n",
    "    return(tuple_of_strings);\n",
    "    # Call three_shouts() and print\n",
    "print(three_shouts('hi', 'hey', 'hola'));"
   ]
  },
  {
   "cell_type": "code",
   "execution_count": 12,
   "metadata": {},
   "outputs": [
    {
     "ename": "TypeError",
     "evalue": "'int' object is not iterable",
     "output_type": "error",
     "traceback": [
      "\u001b[1;31m---------------------------------------------------------------------------\u001b[0m",
      "\u001b[1;31mTypeError\u001b[0m                                 Traceback (most recent call last)",
      "\u001b[1;32m<ipython-input-12-176e4541e407>\u001b[0m in \u001b[0;36m<module>\u001b[1;34m()\u001b[0m\n\u001b[0;32m     35\u001b[0m         \u001b[0mecho\u001b[0m\u001b[1;33m(\u001b[0m\u001b[1;34m'hello'\u001b[0m\u001b[1;33m)\u001b[0m\u001b[1;33m;\u001b[0m\u001b[1;33m\u001b[0m\u001b[0m\n\u001b[0;32m     36\u001b[0m \u001b[1;31m# Call twice() and thrice() then print\u001b[0m\u001b[1;33m\u001b[0m\u001b[1;33m\u001b[0m\u001b[0m\n\u001b[1;32m---> 37\u001b[1;33m \u001b[1;32mprint\u001b[0m\u001b[1;33m(\u001b[0m\u001b[0mtwice\u001b[0m\u001b[1;33m(\u001b[0m\u001b[1;36m2\u001b[0m\u001b[1;33m)\u001b[0m\u001b[1;33m)\u001b[0m\u001b[1;33m;\u001b[0m\u001b[1;33m\u001b[0m\u001b[0m\n\u001b[0m\u001b[0;32m     38\u001b[0m \u001b[1;32mprint\u001b[0m\u001b[1;33m(\u001b[0m\u001b[0mthrice\u001b[0m\u001b[1;33m(\u001b[0m\u001b[1;36m3\u001b[0m\u001b[1;33m)\u001b[0m\u001b[1;33m)\u001b[0m\u001b[1;33m;\u001b[0m\u001b[1;33m\u001b[0m\u001b[0m\n",
      "\u001b[1;32m<ipython-input-12-176e4541e407>\u001b[0m in \u001b[0;36mtwice\u001b[1;34m(n2)\u001b[0m\n\u001b[0;32m     27\u001b[0m \u001b[1;32mdef\u001b[0m \u001b[0mtwice\u001b[0m\u001b[1;33m(\u001b[0m\u001b[0mn2\u001b[0m\u001b[1;33m)\u001b[0m\u001b[1;33m:\u001b[0m\u001b[1;33m\u001b[0m\u001b[0m\n\u001b[0;32m     28\u001b[0m     \u001b[0mi\u001b[0m \u001b[1;33m=\u001b[0m \u001b[1;36m1\u001b[0m\u001b[1;33m;\u001b[0m\u001b[1;33m\u001b[0m\u001b[0m\n\u001b[1;32m---> 29\u001b[1;33m     \u001b[1;32mfor\u001b[0m \u001b[0mi\u001b[0m \u001b[1;32min\u001b[0m \u001b[0mn2\u001b[0m\u001b[1;33m:\u001b[0m\u001b[1;33m\u001b[0m\u001b[0m\n\u001b[0m\u001b[0;32m     30\u001b[0m         \u001b[0mecho\u001b[0m\u001b[1;33m(\u001b[0m\u001b[1;34m'hi'\u001b[0m\u001b[1;33m)\u001b[0m\u001b[1;33m;\u001b[0m\u001b[1;33m\u001b[0m\u001b[0m\n\u001b[0;32m     31\u001b[0m \u001b[1;31m# Call echo: thrice\u001b[0m\u001b[1;33m\u001b[0m\u001b[1;33m\u001b[0m\u001b[0m\n",
      "\u001b[1;31mTypeError\u001b[0m: 'int' object is not iterable"
     ]
    }
   ],
   "source": [
    "'''\n",
    "Nested Functions II\n",
    "\n",
    "Great job, you've just nested a function within another function. One other pretty cool reason for nesting functions is the idea\n",
    "of a closure. This means that the nested or inner function remembers the state of its enclosing scope when called. Thus, \n",
    "anything defined locally in the enclosing scope is available to the inner function even when the outer function has finished \\\n",
    "execution.\n",
    "\n",
    "Let's move forward then! In this exercise, you will complete the definition of the inner function inner_echo() and then call \n",
    "echo() a couple of times, each with a different argument. Complete the exercise and see what the output will be!\n",
    "\n",
    "Instructions\n",
    "-Complete the function header of the inner function with the function name inner_echo() and a single parameter word1.\n",
    "-Complete the function echo() so that it returns inner_echo.\n",
    "-We have called echo(), passing 2 as an argument, and assigned the resulting function to twice. Your job is to call echo(), \n",
    "passing 3 as an argument. Assign the resulting function to thrice.\n",
    "-Hit Submit to call twice() and thrice() and print the results.\n",
    "'''\n",
    "# Define echo\n",
    "def echo(word1):\n",
    "# Define inner_echo\n",
    "    def inner_echo(word1):\n",
    "        return(word1);\n",
    "# Return inner_echo\n",
    "    return(inner_echo);\n",
    "# Call echo: twice\n",
    "def twice(n2):\n",
    "    i = 1;\n",
    "    for i in n2:\n",
    "        echo('hi');\n",
    "# Call echo: thrice\n",
    "def thrice(n3):\n",
    "    i = 1;\n",
    "    for i in n3:\n",
    "        echo('hello');\n",
    "# Call twice() and thrice() then print\n",
    "print(twice(2));\n",
    "print(thrice(3));"
   ]
  },
  {
   "cell_type": "code",
   "execution_count": 13,
   "metadata": {},
   "outputs": [
    {
     "name": "stdout",
     "output_type": "stream",
     "text": [
      "hihi\n",
      "hellohellohello\n"
     ]
    }
   ],
   "source": [
    "# Define echo\n",
    "def echo(n):\n",
    "# Define inner_echo\n",
    "    def inner_echo(word1):\n",
    "        return(word1*n);\n",
    "# Return inner_echo\n",
    "    return(inner_echo);\n",
    "# Call echo: twice\n",
    "twice = echo(2);\n",
    "# Call echo: thrice\n",
    "thrice = echo(3);\n",
    "# Call twice() and thrice() then print\n",
    "print(twice('hi'));\n",
    "print(thrice('hello'));"
   ]
  }
 ],
 "metadata": {
  "kernelspec": {
   "display_name": "Python 2",
   "language": "python",
   "name": "python2"
  },
  "language_info": {
   "codemirror_mode": {
    "name": "ipython",
    "version": 2
   },
   "file_extension": ".py",
   "mimetype": "text/x-python",
   "name": "python",
   "nbconvert_exporter": "python",
   "pygments_lexer": "ipython2",
   "version": "2.7.14"
  }
 },
 "nbformat": 4,
 "nbformat_minor": 2
}
