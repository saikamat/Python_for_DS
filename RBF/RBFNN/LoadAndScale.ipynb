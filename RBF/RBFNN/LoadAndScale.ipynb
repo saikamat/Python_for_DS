{
 "cells": [
  {
   "cell_type": "code",
   "execution_count": null,
   "metadata": {},
   "outputs": [],
   "source": [
    "class LoadAndScaleData:\n",
    "    def __init__(self,filePath):\n",
    "        self.data = np.loadtxt(filePath,delimiter=',',usecols=(0,1,2,3))\n",
    "        self.labels = np.loadtxt(filePath,delimiter=',',dtype='S',usecols=(4))\n",
    "        x, = self.labels.shape\n",
    "        self.rLabels = np.zeros(shape = (0,3))\n",
    "        for i in range(0,x):\n",
    "            if self.labels[i] == 'Iris-setosa':\n",
    "                self.rLabels = np.vstack([self.rLabels,[1,0,0]])\n",
    "            if self.labels[i] == 'Iris-versicolor':\n",
    "                self.rLabels = np.vstack([self.rLabels,[0,1,0]])\n",
    "            if self.labels[i] == 'Iris-virginica':\n",
    "                self.rLabels = np.vstack([self.rLabels,[0,0,1]])\n",
    "                 \n",
    "    def scale(self):\n",
    "        mat = np.asmatrix(self.data)\n",
    "        height,width = mat.shape\n",
    "        for i in range(0,width):\n",
    "            minimum = np.min(mat[:,i])\n",
    "            maximum = np.max(mat[:,i])\n",
    "            for k in range(0,height):\n",
    "                mat[k,i] = (mat[k,i] - minimum)/(maximum - minimum)\n",
    "        return mat, self.rLabels"
   ]
  }
 ],
 "metadata": {
  "kernelspec": {
   "display_name": "Python 2",
   "language": "python",
   "name": "python2"
  },
  "language_info": {
   "codemirror_mode": {
    "name": "ipython",
    "version": 2
   },
   "file_extension": ".py",
   "mimetype": "text/x-python",
   "name": "python",
   "nbconvert_exporter": "python",
   "pygments_lexer": "ipython2",
   "version": "2.7.14"
  }
 },
 "nbformat": 4,
 "nbformat_minor": 2
}
