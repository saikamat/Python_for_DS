{
 "cells": [
  {
   "cell_type": "code",
   "execution_count": null,
   "metadata": {},
   "outputs": [],
   "source": [
    "def test(self):\n",
    "        items = [3,4,72,82,91,120,134,98,67,145,131]\n",
    "        for item in items:\n",
    "            data = self.scaledData[item]\n",
    "            out = []\n",
    "            for proto in self.protos:\n",
    "                distance = np.square(np.linalg.norm(data-proto))\n",
    "                neuronOut = np.exp(-(distance)/np.square(self.spread))\n",
    "                out.append(neuronOut)\n",
    "             \n",
    "            netOut = np.dot(np.array(out),self.weights)\n",
    "            print '---------------------------------'\n",
    "            print netOut\n",
    "            print 'Class is ',netOut.argmax(axis=0) + 1\n",
    "            print 'Given Class ',self.labels[item].argmax(axis=0) +1"
   ]
  }
 ],
 "metadata": {
  "kernelspec": {
   "display_name": "Python 2",
   "language": "python",
   "name": "python2"
  },
  "language_info": {
   "codemirror_mode": {
    "name": "ipython",
    "version": 2
   },
   "file_extension": ".py",
   "mimetype": "text/x-python",
   "name": "python",
   "nbconvert_exporter": "python",
   "pygments_lexer": "ipython2",
   "version": "2.7.14"
  }
 },
 "nbformat": 4,
 "nbformat_minor": 2
}
