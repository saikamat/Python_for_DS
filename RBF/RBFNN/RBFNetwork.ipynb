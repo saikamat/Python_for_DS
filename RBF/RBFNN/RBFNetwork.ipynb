{
 "cells": [
  {
   "cell_type": "code",
   "execution_count": null,
   "metadata": {},
   "outputs": [],
   "source": [
    "class RBFNetwork:\n",
    "    def __init__(self, pTypes,scaledData,labels):\n",
    "        self.pTypes = pTypes\n",
    "        self.protos = np.zeros(shape=(0,4))\n",
    "        self.scaledData = scaledData\n",
    "        self.spread = 0\n",
    "        self.labels = labels\n",
    "        self.weights = 0\n",
    "         \n",
    "    def generatePrototypes(self):\n",
    "        group1 = np.random.randint(0,49,size=self.pTypes)\n",
    "        group2 = np.random.randint(50,100,size=self.pTypes)\n",
    "        group3 = np.random.randint(101,150,size=self.pTypes)\n",
    "        self.protos = np.vstack([self.protos,self.scaledData[group1,:],self.scaledData[group2,:],self.scaledData[group3,:]])\n",
    "        return self.protos\n",
    "    \n",
    "    def sigma(self):\n",
    "        dTemp = 0\n",
    "        for i in range(0,self.pTypes*3):\n",
    "            for k in range(0,self.pTypes*3):\n",
    "                dist = np.square(np.linalg.norm(self.protos[i] - self.protos[k]))\n",
    "                if dist > dTemp:\n",
    "                    dTemp = dist\n",
    "        self.spread = dTemp/np.sqrt(self.pTypes*3)\n",
    "        #return void;\n",
    "        \n",
    "     def train(self):\n",
    "        self.generatePrototypes()\n",
    "        self.sigma()\n",
    "        hiddenOut = np.zeros(shape=(0,self.pTypes*3))\n",
    "        for item in self.scaledData:\n",
    "            out=[]\n",
    "            for proto in self.protos:\n",
    "                distance = np.square(np.linalg.norm(item - proto))\n",
    "                neuronOut = np.exp(-(distance)/(np.square(self.spread)))\n",
    "                out.append(neuronOut)\n",
    "            hiddenOut = np.vstack([hiddenOut,np.array(out)])\n",
    "        print hiddenOut\n",
    "        self.weights = np.dot(pinv(hiddenOut),self.labels)\n",
    "        print self.weights"
   ]
  }
 ],
 "metadata": {
  "kernelspec": {
   "display_name": "Python 2",
   "language": "python",
   "name": "python2"
  },
  "language_info": {
   "codemirror_mode": {
    "name": "ipython",
    "version": 2
   },
   "file_extension": ".py",
   "mimetype": "text/x-python",
   "name": "python",
   "nbconvert_exporter": "python",
   "pygments_lexer": "ipython2",
   "version": "2.7.14"
  }
 },
 "nbformat": 4,
 "nbformat_minor": 2
}
